{
 "cells": [
  {
   "cell_type": "code",
   "execution_count": 2,
   "metadata": {},
   "outputs": [],
   "source": [
    "import torch\n",
    "import numpy as np\n",
    "import matplotlib.pyplot as plt\n",
    "import torchvision\n",
    "from torchvision.datasets import MNIST\n",
    "import torchvision.transforms as transforms\n",
    "import torch.nn.functional as F\n",
    "import torch.nn as nn "
   ]
  },
  {
   "cell_type": "code",
   "execution_count": null,
   "metadata": {},
   "outputs": [],
   "source": [
    "a=[0,1,2,3,4,5]\n",
    "b=[34,23,34,45,56,45]\n",
    "\n",
    "print(f'\\n zip converts list to tuple ')\n",
    "for x in zip(a, b):\n",
    "    print(x,type(x))\n",
    "\n",
    "print(f'\\n zip converts list to int by one by')\n",
    "for x,y in zip(a, b):\n",
    "    print(x,type(x))\n",
    "\n",
    "print(f'\\n zip slice and converts list to tuple')\n",
    "for x in zip(a,a[1:3]):\n",
    "    print(x,type(x))\n",
    "\n",
    "print(f'\\n zip slice and converts list to int')\n",
    "for x,y in zip(a,a[1:3]):\n",
    "    print(x,type(x))"
   ]
  },
  {
   "cell_type": "code",
   "execution_count": 36,
   "metadata": {},
   "outputs": [
    {
     "ename": "TypeError",
     "evalue": "'range_iterator' object is not callable",
     "output_type": "error",
     "traceback": [
      "\u001b[0;31m---------------------------------------------------------------------------\u001b[0m",
      "\u001b[0;31mTypeError\u001b[0m                                 Traceback (most recent call last)",
      "\u001b[1;32m/Users/cihankatar/Desktop/Github_Repo/PyTorch_Practising/02_13.01.2023_Torch_Manupulating_Matrices.ipynb Cell 3\u001b[0m in \u001b[0;36m<module>\u001b[0;34m\u001b[0m\n\u001b[1;32m      <a href='vscode-notebook-cell:/Users/cihankatar/Desktop/Github_Repo/PyTorch_Practising/02_13.01.2023_Torch_Manupulating_Matrices.ipynb#W2sZmlsZQ%3D%3D?line=2'>3</a>\u001b[0m vowels \u001b[39m=\u001b[39m [\u001b[39m\"\u001b[39m\u001b[39ma\u001b[39m\u001b[39m\"\u001b[39m, \u001b[39m\"\u001b[39m\u001b[39me\u001b[39m\u001b[39m\"\u001b[39m, \u001b[39m\"\u001b[39m\u001b[39mi\u001b[39m\u001b[39m\"\u001b[39m, \u001b[39m\"\u001b[39m\u001b[39mo\u001b[39m\u001b[39m\"\u001b[39m, \u001b[39m\"\u001b[39m\u001b[39mu\u001b[39m\u001b[39m\"\u001b[39m]\n\u001b[1;32m      <a href='vscode-notebook-cell:/Users/cihankatar/Desktop/Github_Repo/PyTorch_Practising/02_13.01.2023_Torch_Manupulating_Matrices.ipynb#W2sZmlsZQ%3D%3D?line=4'>5</a>\u001b[0m \u001b[39m# iter() with a list of vowels\u001b[39;00m\n\u001b[0;32m----> <a href='vscode-notebook-cell:/Users/cihankatar/Desktop/Github_Repo/PyTorch_Practising/02_13.01.2023_Torch_Manupulating_Matrices.ipynb#W2sZmlsZQ%3D%3D?line=5'>6</a>\u001b[0m vowels_iter \u001b[39m=\u001b[39m \u001b[39miter\u001b[39;49m(vowels)\n\u001b[1;32m      <a href='vscode-notebook-cell:/Users/cihankatar/Desktop/Github_Repo/PyTorch_Practising/02_13.01.2023_Torch_Manupulating_Matrices.ipynb#W2sZmlsZQ%3D%3D?line=7'>8</a>\u001b[0m \u001b[39mprint\u001b[39m(\u001b[39mnext\u001b[39m(vowels_iter))\n\u001b[1;32m      <a href='vscode-notebook-cell:/Users/cihankatar/Desktop/Github_Repo/PyTorch_Practising/02_13.01.2023_Torch_Manupulating_Matrices.ipynb#W2sZmlsZQ%3D%3D?line=8'>9</a>\u001b[0m \u001b[39mprint\u001b[39m(\u001b[39mnext\u001b[39m(vowels_iter))\n",
      "\u001b[0;31mTypeError\u001b[0m: 'range_iterator' object is not callable"
     ]
    }
   ],
   "source": [
    "#Broadcast\n",
    "# list of vowels\n",
    "vowels = [\"a\", \"e\", \"i\", \"o\", \"u\"]\n",
    "\n",
    "# iter() with a list of vowels\n",
    "vowels_iter = iter(vowels)\n",
    "\n",
    "print(next(vowels_iter))\n",
    "print(next(vowels_iter))\n",
    "print(next(vowels_iter))\n",
    "print(next(vowels_iter))\n",
    "print(next(vowels_iter))"
   ]
  },
  {
   "cell_type": "code",
   "execution_count": 35,
   "metadata": {},
   "outputs": [
    {
     "name": "stdout",
     "output_type": "stream",
     "text": [
      "[0, 2, 4, 6, 8, 10]\n",
      "[[0, 1, 2, 3, 4], [0, 1, 2, 3, 4], [0, 1, 2, 3, 4]]\n",
      "[[0, 1, 2, 3, 4], [0, 1, 2, 3, 4], [0, 1, 2, 3, 4]]\n"
     ]
    }
   ],
   "source": [
    "#list Comprehension\n",
    "x = [1,2,3,4,5,6,7,8,9]\n",
    "x=np.array(x)\n",
    "x[x>=4]\n",
    "\n",
    "# ---------\n",
    "list = [i for i in range(11) if i % 2 == 0]\n",
    "print(list)\n",
    "\n",
    "# ---------\n",
    "\n",
    "matrix = [] \n",
    "for i in range(3):\n",
    "    # Append an empty sublist inside the list\n",
    "    matrix.append([])\n",
    "    for j in range(5):\n",
    "        matrix[i].append(j)\n",
    "print(matrix)\n",
    "\n",
    "# Nested list comprehension\n",
    "matrix = [[j for j in range(5)] for i in range(3)]\n",
    "print(matrix)"
   ]
  },
  {
   "cell_type": "code",
   "execution_count": null,
   "metadata": {},
   "outputs": [],
   "source": [
    "#iterable object\n",
    "nums=[1,2,3,4,5,6]  #list object is an iterableble but not iterator\n",
    "print(dir(nums))\n",
    "nums=nums.__iter__()\n",
    "print(f'\\n', dir(nums))\n",
    "\n",
    "for i in range(5,10):\n",
    "    print(i)\n",
    "\n"
   ]
  },
  {
   "cell_type": "code",
   "execution_count": null,
   "metadata": {},
   "outputs": [],
   "source": [
    "#Module List\n",
    "sizes=[1,16,32,32,64,128,64,32,32,1]\n",
    "layers = nn.ModuleList([nn.Linear(in_f, out_f) for in_f, out_f in zip(sizes, sizes[1:])])\n",
    "layers"
   ]
  },
  {
   "cell_type": "code",
   "execution_count": 49,
   "metadata": {},
   "outputs": [
    {
     "data": {
      "text/plain": [
       "ModuleList(\n",
       "  (0): Linear(in_features=32, out_features=32, bias=True)\n",
       "  (1): Linear(in_features=32, out_features=64, bias=True)\n",
       ")"
      ]
     },
     "execution_count": 49,
     "metadata": {},
     "output_type": "execute_result"
    }
   ],
   "source": []
  },
  {
   "cell_type": "code",
   "execution_count": null,
   "metadata": {},
   "outputs": [],
   "source": []
  }
 ],
 "metadata": {
  "kernelspec": {
   "display_name": "Python 3",
   "language": "python",
   "name": "python3"
  },
  "language_info": {
   "codemirror_mode": {
    "name": "ipython",
    "version": 3
   },
   "file_extension": ".py",
   "mimetype": "text/x-python",
   "name": "python",
   "nbconvert_exporter": "python",
   "pygments_lexer": "ipython3",
   "version": "3.9.7"
  },
  "orig_nbformat": 4,
  "vscode": {
   "interpreter": {
    "hash": "aee8b7b246df8f9039afb4144a1f6fd8d2ca17a180786b69acc140d282b71a49"
   }
  }
 },
 "nbformat": 4,
 "nbformat_minor": 2
}
