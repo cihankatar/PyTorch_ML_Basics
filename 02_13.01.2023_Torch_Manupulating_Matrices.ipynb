{
 "cells": [
  {
   "cell_type": "code",
   "execution_count": 4,
   "metadata": {},
   "outputs": [],
   "source": [
    "import torch\n",
    "import numpy as np\n",
    "import matplotlib.pyplot as plt\n",
    "import torchvision\n",
    "from torchvision.datasets import MNIST\n",
    "import torchvision.transforms as transforms\n",
    "import torch.nn.functional as F\n",
    "import torch.nn as nn "
   ]
  },
  {
   "cell_type": "code",
   "execution_count": null,
   "metadata": {},
   "outputs": [],
   "source": [
    "a=[0,1,2,3,4,5]\n",
    "b=[34,23,34,45,56,45]\n",
    "\n",
    "print(f'\\n zip converts list to tuple ')\n",
    "for x in zip(a, b):\n",
    "    print(x,type(x))\n",
    "\n",
    "print(f'\\n zip converts list to int by one by')\n",
    "for x,y in zip(a, b):\n",
    "    print(x,type(x))\n",
    "\n",
    "print(f'\\n zip slice and converts list to tuple')\n",
    "for x in zip(a,a[1:3]):\n",
    "    print(x,type(x))\n",
    "\n",
    "print(f'\\n zip slice and converts list to int')\n",
    "for x,y in zip(a,a[1:3]):\n",
    "    print(x,type(x))"
   ]
  },
  {
   "cell_type": "code",
   "execution_count": 43,
   "metadata": {},
   "outputs": [
    {
     "name": "stdout",
     "output_type": "stream",
     "text": [
      "[2.5 5.5]\n",
      "tensor([2.5000, 5.5000])\n"
     ]
    }
   ],
   "source": [
    "#Broadcast\n"
   ]
  },
  {
   "cell_type": "code",
   "execution_count": null,
   "metadata": {},
   "outputs": [],
   "source": [
    "#list Comprehension\n",
    "x = [1,2,3,4,5,6,7,8,9]\n",
    "x=np.array(x)\n",
    "x[x>=4]"
   ]
  },
  {
   "cell_type": "code",
   "execution_count": null,
   "metadata": {},
   "outputs": [],
   "source": [
    "#Module List\n",
    "sizes=[1,16,32,32,64,128,64,32,32,1]\n",
    "layers = nn.ModuleList([nn.Linear(in_f, out_f) for in_f, out_f in zip(sizes, sizes[1:])])\n",
    "layers"
   ]
  },
  {
   "cell_type": "code",
   "execution_count": 49,
   "metadata": {},
   "outputs": [
    {
     "data": {
      "text/plain": [
       "ModuleList(\n",
       "  (0): Linear(in_features=32, out_features=32, bias=True)\n",
       "  (1): Linear(in_features=32, out_features=64, bias=True)\n",
       ")"
      ]
     },
     "execution_count": 49,
     "metadata": {},
     "output_type": "execute_result"
    }
   ],
   "source": []
  },
  {
   "cell_type": "code",
   "execution_count": null,
   "metadata": {},
   "outputs": [],
   "source": []
  }
 ],
 "metadata": {
  "kernelspec": {
   "display_name": "Python 3",
   "language": "python",
   "name": "python3"
  },
  "language_info": {
   "codemirror_mode": {
    "name": "ipython",
    "version": 3
   },
   "file_extension": ".py",
   "mimetype": "text/x-python",
   "name": "python",
   "nbconvert_exporter": "python",
   "pygments_lexer": "ipython3",
   "version": "3.9.7"
  },
  "orig_nbformat": 4,
  "vscode": {
   "interpreter": {
    "hash": "aee8b7b246df8f9039afb4144a1f6fd8d2ca17a180786b69acc140d282b71a49"
   }
  }
 },
 "nbformat": 4,
 "nbformat_minor": 2
}
