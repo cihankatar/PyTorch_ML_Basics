{
 "cells": [
  {
   "cell_type": "code",
   "execution_count": 4,
   "metadata": {},
   "outputs": [],
   "source": [
    "import torch\n",
    "import numpy as np\n",
    "import matplotlib.pyplot as plt\n",
    "import torchvision\n",
    "from torchvision.datasets import MNIST\n",
    "import torchvision.transforms as transforms\n",
    "import torch.nn.functional as F\n",
    "import torch.nn as nn "
   ]
  },
  {
   "cell_type": "code",
   "execution_count": 16,
   "metadata": {},
   "outputs": [
    {
     "name": "stderr",
     "output_type": "stream",
     "text": [
      "<>:1: SyntaxWarning: list indices must be integers or slices, not tuple; perhaps you missed a comma?\n",
      "<>:1: SyntaxWarning: list indices must be integers or slices, not tuple; perhaps you missed a comma?\n",
      "/var/folders/65/ww2kjtyj0wdf54h8l94rmbg00000gn/T/ipykernel_69505/3777560257.py:1: SyntaxWarning: list indices must be integers or slices, not tuple; perhaps you missed a comma?\n",
      "  a=[[0,1,2,3,4,5]\n",
      "/var/folders/65/ww2kjtyj0wdf54h8l94rmbg00000gn/T/ipykernel_69505/3777560257.py:1: SyntaxWarning: list indices must be integers or slices, not tuple; perhaps you missed a comma?\n",
      "  a=[[0,1,2,3,4,5]\n",
      "/var/folders/65/ww2kjtyj0wdf54h8l94rmbg00000gn/T/ipykernel_69505/3777560257.py:1: SyntaxWarning: list indices must be integers or slices, not tuple; perhaps you missed a comma?\n",
      "  a=[[0,1,2,3,4,5]\n"
     ]
    },
    {
     "ename": "TypeError",
     "evalue": "list indices must be integers or slices, not tuple",
     "output_type": "error",
     "traceback": [
      "\u001b[0;31m---------------------------------------------------------------------------\u001b[0m",
      "\u001b[0;31mTypeError\u001b[0m                                 Traceback (most recent call last)",
      "\u001b[1;32m/Users/cihankatar/Desktop/Github_Repo/PyTorch_Practising/02_13.01.2023_Torch_Manupulating_Matrices.ipynb Cell 2\u001b[0m in \u001b[0;36m<module>\u001b[0;34m\u001b[0m\n\u001b[0;32m----> <a href='vscode-notebook-cell:/Users/cihankatar/Desktop/Github_Repo/PyTorch_Practising/02_13.01.2023_Torch_Manupulating_Matrices.ipynb#W1sZmlsZQ%3D%3D?line=0'>1</a>\u001b[0m a\u001b[39m=\u001b[39m[[\u001b[39m0\u001b[39;49m,\u001b[39m1\u001b[39;49m,\u001b[39m2\u001b[39;49m,\u001b[39m3\u001b[39;49m,\u001b[39m4\u001b[39;49m,\u001b[39m5\u001b[39;49m]\n\u001b[1;32m      <a href='vscode-notebook-cell:/Users/cihankatar/Desktop/Github_Repo/PyTorch_Practising/02_13.01.2023_Torch_Manupulating_Matrices.ipynb#W1sZmlsZQ%3D%3D?line=1'>2</a>\u001b[0m     [\u001b[39m0\u001b[39;49m,\u001b[39m1\u001b[39;49m,\u001b[39m2\u001b[39;49m,\u001b[39m3\u001b[39;49m,\u001b[39m4\u001b[39;49m,\u001b[39m5\u001b[39;49m]]\n\u001b[1;32m      <a href='vscode-notebook-cell:/Users/cihankatar/Desktop/Github_Repo/PyTorch_Practising/02_13.01.2023_Torch_Manupulating_Matrices.ipynb#W1sZmlsZQ%3D%3D?line=2'>3</a>\u001b[0m b\u001b[39m=\u001b[39m[\u001b[39m34\u001b[39m,\u001b[39m23\u001b[39m,\u001b[39m34\u001b[39m,\u001b[39m45\u001b[39m,\u001b[39m56\u001b[39m,\u001b[39m45\u001b[39m]\n",
      "\u001b[0;31mTypeError\u001b[0m: list indices must be integers or slices, not tuple"
     ]
    }
   ],
   "source": [
    "a=[0,1,2,3,4,5]\n",
    "b=[34,23,34,45,56,45]\n",
    "\n",
    "print(f'\\n zip converts list to tuple ')\n",
    "for x in zip(a, b):\n",
    "    print(x,type(x))\n",
    "\n",
    "print(f'\\n zip converts list to int by one by')\n",
    "for x,y in zip(a, b):\n",
    "    print(x,type(x))\n",
    "\n",
    "print(f'\\n zip slice and converts list to tuple')\n",
    "for x in zip(a,a[1:3]):\n",
    "    print(x,type(x))\n",
    "\n",
    "print(f'\\n zip slice and converts list to int')\n",
    "for x,y in zip(a,a[1:3]):\n",
    "    print(x,type(x))"
   ]
  },
  {
   "cell_type": "code",
   "execution_count": 43,
   "metadata": {},
   "outputs": [
    {
     "name": "stdout",
     "output_type": "stream",
     "text": [
      "[2.5 5.5]\n",
      "tensor([2.5000, 5.5000])\n"
     ]
    }
   ],
   "source": [
    "#Broadcast\n"
   ]
  },
  {
   "cell_type": "code",
   "execution_count": null,
   "metadata": {},
   "outputs": [],
   "source": [
    "#list Comprehension\n",
    "x = [1,2,3,4,5,6,7,8,9]\n",
    "x=np.array(x)\n",
    "x[x>=4]"
   ]
  },
  {
   "cell_type": "code",
   "execution_count": 24,
   "metadata": {},
   "outputs": [
    {
     "name": "stdout",
     "output_type": "stream",
     "text": [
      "<zip object at 0x7fe57a22ef40>\n"
     ]
    }
   ],
   "source": [
    "sizes=[1,16,32,32,64,128,64,32,32,1]\n",
    "\n",
    "layers = nn.ModuleList([nn.Linear(in_f, out_f) for in_f, out_f in zip(sizes, sizes[1:])])\n"
   ]
  }
 ],
 "metadata": {
  "kernelspec": {
   "display_name": "Python 3",
   "language": "python",
   "name": "python3"
  },
  "language_info": {
   "codemirror_mode": {
    "name": "ipython",
    "version": 3
   },
   "file_extension": ".py",
   "mimetype": "text/x-python",
   "name": "python",
   "nbconvert_exporter": "python",
   "pygments_lexer": "ipython3",
   "version": "3.9.7"
  },
  "orig_nbformat": 4,
  "vscode": {
   "interpreter": {
    "hash": "aee8b7b246df8f9039afb4144a1f6fd8d2ca17a180786b69acc140d282b71a49"
   }
  }
 },
 "nbformat": 4,
 "nbformat_minor": 2
}
