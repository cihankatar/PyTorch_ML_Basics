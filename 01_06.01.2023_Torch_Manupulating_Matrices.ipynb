{
 "cells": [
  {
   "cell_type": "code",
   "execution_count": 1,
   "metadata": {},
   "outputs": [],
   "source": [
    "import torch\n",
    "import numpy as np\n",
    "import matplotlib.pyplot as plt\n",
    "import torchvision\n",
    "from torchvision.datasets import MNIST\n",
    "import torchvision.transforms as transforms\n",
    "import numpy as  np\n",
    "import torch.nn.functional as F\n",
    "import torch.nn as nn "
   ]
  },
  {
   "cell_type": "code",
   "execution_count": null,
   "metadata": {},
   "outputs": [],
   "source": [
    "a = torch.tensor([[1,2],\n",
    "                  [3,4]])\n",
    "                  \n",
    "b = torch.tensor([[5,6],\n",
    "                  [7,8]])\n",
    "c = a@b #For dot product\n",
    "print(c)\n",
    "\n",
    "d = a*b #For elementwise multiplication \n",
    "print(d)\n",
    "print(c)\n",
    "\n",
    "#in numpy it is used no.dot\n",
    "'''\n",
    "a = np.arange(3*4*5*6).reshape((3,4,5,6))\n",
    "b = np.arange(3*4*5*6)[::-1].reshape((5,4,6,3))\n",
    "np.dot(a, b)[2,3,2,1,2,2]\n",
    "'''"
   ]
  },
  {
   "cell_type": "code",
   "execution_count": null,
   "metadata": {},
   "outputs": [],
   "source": [
    "import torch\n",
    "a=torch.tensor([[5,9],\n",
    "                [2,6],\n",
    "                [2,3]]) # 3x2 \n",
    "\n",
    "b=torch.rand(3,2)\n",
    "x=torch.tensor([[5,9,4],\n",
    "                [2,6,5],\n",
    "                      ]) # 2x3 \n",
    "\n",
    "elementwise = a*b    # element wise multiplication =3x2\n",
    "dotproduct  = a@x     # dot product     3x2  2x3 =3x3\n",
    "print(f'\\n elementwise a,b \\n',elementwise)\n",
    "print(f'\\n dotproduct a,x \\n=',dotproduct)\n",
    "\n",
    "c=torch.cat((a,b),dim=0)\n",
    "print(f'concatinating a and b in axis 0\\n',c)\n",
    "d=torch.cat((a,b),dim=1)\n",
    "print(f'\\nconcatinating a and b in axis 1\\n',d)\n",
    "\n",
    "\n",
    "print(\"a : {}\".format(a))\n",
    "\n",
    "slice_a= a[:,0]   # tensor([9, 6, 3])\n",
    "print(f' \\n slicing a[:,0] = ',slice_a.shape)\n",
    "slice_a_keep_dim=a[:,0:1]\n",
    "print(f' :\\n slice_a_keep_dim a[:, 0:1] = ',slice_a_keep_dim.shape)\n",
    "\n",
    "#mean for each of dim ---------------------------------------------------\n",
    "mean_column_of_a=torch.mean(a,dim=0)\n",
    "\n",
    "\n",
    "#sum for each of dim\n",
    "print(a)\n",
    "print(a.shape)\n",
    "sum=a.sum()\n",
    "print(f'\\nsum =', sum)\n",
    "sum_axis_keep_dim=a.sum(dim=1,keepdim=True)\n",
    "sum_axis=a.sum(dim=0)\n",
    "print(f'\\nsum and keep dim =',sum_axis_keep_dim)\n",
    "print(f'\\nsum and keep dim =',sum_axis)\n",
    "\n",
    "#Converting \n",
    "convert_numpy = a.numpy()\n",
    "convert_torch = torch.from_numpy(convert_numpy)\n",
    "type(convert_numpy), type(convert_torch)\n"
   ]
  }
 ],
 "metadata": {
  "kernelspec": {
   "display_name": "Python 3",
   "language": "python",
   "name": "python3"
  },
  "language_info": {
   "codemirror_mode": {
    "name": "ipython",
    "version": 3
   },
   "file_extension": ".py",
   "mimetype": "text/x-python",
   "name": "python",
   "nbconvert_exporter": "python",
   "pygments_lexer": "ipython3",
   "version": "3.9.7"
  },
  "orig_nbformat": 4,
  "vscode": {
   "interpreter": {
    "hash": "c347c8f9a7ef94e4c9e03b4513be7835ed18f45b99a2a817fb579f408b867b16"
   }
  }
 },
 "nbformat": 4,
 "nbformat_minor": 2
}
