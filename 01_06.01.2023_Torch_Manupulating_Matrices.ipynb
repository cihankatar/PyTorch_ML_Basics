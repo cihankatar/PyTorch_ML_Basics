{
 "cells": [
  {
   "cell_type": "code",
   "execution_count": 1,
   "metadata": {},
   "outputs": [],
   "source": [
    "import torch\n",
    "import numpy as np\n",
    "import matplotlib.pyplot as plt\n",
    "import torchvision\n",
    "from torchvision.datasets import MNIST\n",
    "import torchvision.transforms as transforms\n",
    "import numpy as  np\n",
    "import torch.nn.functional as F\n",
    "import torch.nn as nn "
   ]
  },
  {
   "cell_type": "code",
   "execution_count": 2,
   "metadata": {},
   "outputs": [
    {
     "name": "stdout",
     "output_type": "stream",
     "text": [
      "tensor([[19, 22],\n",
      "        [43, 50]])\n",
      "tensor([[ 5, 12],\n",
      "        [21, 32]])\n",
      "tensor([[19, 22],\n",
      "        [43, 50]])\n"
     ]
    }
   ],
   "source": [
    "a = torch.tensor([[1,2],\n",
    "                  [3,4]])\n",
    "                  \n",
    "b = torch.tensor([[5,6],\n",
    "                  [7,8]])\n",
    "c = a@b #For dot product\n",
    "print(c)\n",
    "\n",
    "d = a*b #For elementwise multiplication \n",
    "print(d)\n",
    "print(c)\n",
    "\n",
    "# dot product in NUmpy ?"
   ]
  },
  {
   "cell_type": "code",
   "execution_count": 13,
   "metadata": {},
   "outputs": [
    {
     "name": "stdout",
     "output_type": "stream",
     "text": [
      "a : tensor([[5, 9],\n",
      "        [2, 6],\n",
      "        [2, 3]])\n",
      " \n",
      " slicing a[:,0] =  torch.Size([3])\n",
      " :\n",
      " slice_a_keep_dim a[:, 0:1] =  torch.Size([3, 1])\n",
      "tensor(33)\n"
     ]
    },
    {
     "data": {
      "text/plain": [
       "'\\nsum=a.sum()\\nprint(f\\'\\nsum =\\', sum)\\n\\nsum_axis_keep_dim=a.sum(dim=1,keepdim=True)\\nsum_axis=a.sum(dim=0)\\nprint(f\\'\\nsum and keep dim =\\',sum_axis)\\nprint(f\\'\\nsum and keep dim =\\',sum_axis_keep_dim)\\n\\n#Converting \\nconvert_numpy = a.numpy()\\nconvert_torch = torch.from_numpy(convert_numpy)\\ntype(convert_numpy), type(convert_torch)\\n\\nk=torch.arange(10)\\nprint(f\"k=\",k)'"
      ]
     },
     "execution_count": 13,
     "metadata": {},
     "output_type": "execute_result"
    }
   ],
   "source": [
    "import torch\n",
    "a=torch.tensor([[5,9],\n",
    "                [2,6],\n",
    "                [2,3]]) # 3x2 \n",
    "\"\"\"\n",
    "b=torch.rand(3,2)\n",
    "x=torch.tensor([[5,9,4],\n",
    "                [2,6,5],\n",
    "                      ]) # 2x3 \n",
    "\n",
    "elementwise = a*b    # element wise multiplication =3x2\n",
    "dotproduct  = a@x     # dot product     3x2  2x3 =3x3\n",
    "print(f'\\n elementwise a,b \\n',elementwise)\n",
    "print(f'\\n dotproduct a,x \\n=',dotproduct)\n",
    "\n",
    "c=torch.cat((a,b),dim=0)\n",
    "print(f'concatinating a and b in axis 0\\n',c)\n",
    "d=torch.cat((a,b),dim=1)\n",
    "print(f'\\nconcatinating a and b in axis 1\\n',d)\n",
    "\n",
    "\"\"\"\n",
    "\n",
    "print(\"a : {}\".format(a))\n",
    "\n",
    "slice_a= a[:,0]   # tensor([9, 6, 3])\n",
    "print(f' \\n slicing a[:,0] = ',slice_a.shape)\n",
    "\n",
    "slice_a_keep_dim=a[:,0:1]\n",
    "print(f' :\\n slice_a_keep_dim a[:, 0:1] = ',slice_a_keep_dim.shape)\n",
    "\n",
    "print((slice_a @ slice_a))\n",
    "'''\n",
    "sum=a.sum()\n",
    "print(f'\\nsum =', sum)\n",
    "\n",
    "sum_axis_keep_dim=a.sum(dim=1,keepdim=True)\n",
    "sum_axis=a.sum(dim=0)\n",
    "print(f'\\nsum and keep dim =',sum_axis)\n",
    "print(f'\\nsum and keep dim =',sum_axis_keep_dim)\n",
    "\n",
    "#Converting \n",
    "convert_numpy = a.numpy()\n",
    "convert_torch = torch.from_numpy(convert_numpy)\n",
    "type(convert_numpy), type(convert_torch)\n",
    "\n",
    "k=torch.arange(10)\n",
    "print(f\"k=\",k)'''"
   ]
  },
  {
   "cell_type": "code",
   "execution_count": null,
   "metadata": {},
   "outputs": [],
   "source": []
  }
 ],
 "metadata": {
  "kernelspec": {
   "display_name": "Python 3.8.8 ('base')",
   "language": "python",
   "name": "python3"
  },
  "language_info": {
   "codemirror_mode": {
    "name": "ipython",
    "version": 3
   },
   "file_extension": ".py",
   "mimetype": "text/x-python",
   "name": "python",
   "nbconvert_exporter": "python",
   "pygments_lexer": "ipython3",
   "version": "3.8.8"
  },
  "orig_nbformat": 4,
  "vscode": {
   "interpreter": {
    "hash": "14bb2a872062ab02226849aebd01c622a55e6d3333c677cde34c4e7d9e748162"
   }
  }
 },
 "nbformat": 4,
 "nbformat_minor": 2
}
