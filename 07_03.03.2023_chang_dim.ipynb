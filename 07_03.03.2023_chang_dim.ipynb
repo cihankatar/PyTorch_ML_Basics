{
 "cells": [
  {
   "cell_type": "code",
   "execution_count": 2,
   "metadata": {},
   "outputs": [],
   "source": [
    "##IMPORT \n",
    "\n",
    "import numpy as np\n",
    "from tqdm import tqdm, trange\n",
    "import os\n",
    "from glob import glob\n",
    "import torch\n",
    "import torch.nn as nn\n",
    "from torch.optim import Adam\n",
    "from torch.nn import CrossEntropyLoss\n",
    "from torch.utils.data import DataLoader\n",
    "from torchvision.transforms import ToTensor\n",
    "import matplotlib.pyplot as plt\n",
    "from torch.utils.data import Dataset\n",
    "from PIL import Image\n"
   ]
  },
  {
   "cell_type": "code",
   "execution_count": null,
   "metadata": {},
   "outputs": [],
   "source": [
    "rand_tensor     =   torch.tensor([[[[1,2,3],\n",
    "                                    [1,2,3],\n",
    "                                    [1,2,3]],\n",
    "                                   [[4,5,6],\n",
    "                                    [4,5,6],\n",
    "                                    [4,5,6]],\n",
    "                                   [[7,8,9],\n",
    "                                    [7,8,9],\n",
    "                                    [7,8,9]],\n",
    "                                   [[0,1,2],\n",
    "                                    [1,2,3],\n",
    "                                    [1,2,3]]]])\n",
    "\n",
    "print(rand_tensor.shape)\n",
    "\n",
    "rand_tensor = rand_tensor.squeeze()\n",
    "print(rand_tensor.shape)\n",
    "\n",
    "rand_tensor = rand_tensor[None, :]\n",
    "print(rand_tensor.shape)\n",
    "\n",
    "rand_tensor = rand_tensor.squeeze()\n",
    "print(rand_tensor.shape)\n",
    "\n",
    "rand_tensor = torch.unsqueeze(rand_tensor, dim=0)\n",
    "print(rand_tensor.shape)\n",
    "\n",
    "rand_tensor = rand_tensor.squeeze()\n",
    "print(rand_tensor.shape)\n",
    "\n",
    "rand_tensor = rand_tensor.expand(8,4,3,3)  #copies 8 times to the firs tdim. better than .repeat()\n",
    "print(rand_tensor.shape)\n"
   ]
  },
  {
   "cell_type": "code",
   "execution_count": null,
   "metadata": {},
   "outputs": [],
   "source": [
    "random_numbers = torch.randn(2,2,3,3)\n",
    "print(random_numbers)\n",
    "\n",
    "random_numbers = torch.flatten(input=random_numbers,start_dim=2,end_dim=3)\n",
    "print(random_numbers.shape)\n",
    "\n",
    "random_numbers = random_numbers.reshape(2,2,3,3)\n",
    "print(random_numbers.shape)\n",
    "print(random_numbers)"
   ]
  },
  {
   "cell_type": "code",
   "execution_count": null,
   "metadata": {},
   "outputs": [],
   "source": [
    "import torch\n",
    "random_tensor = torch.randn(4, 4)\n",
    "print(random_tensor.size())\n",
    "\n",
    "random_tensor = random_tensor.view(-1)\n",
    "print(random_tensor.shape)\n",
    "\n",
    "random_tensor = random_tensor.view(2, 8)  # desired output dim\n",
    "print(random_tensor.size())\n",
    "\n",
    "random_tensor = random_tensor.view(-1, 2)  # the size -1 is inferred from other dimensions\n",
    "print(random_tensor.size())"
   ]
  },
  {
   "cell_type": "code",
   "execution_count": 2,
   "metadata": {},
   "outputs": [],
   "source": [
    "#creating custom dataset\n",
    "from torch.utils.data import Dataset\n",
    "class KVasir_dataset(Dataset):\n",
    "    def __init__(self,train_path,mask_path,image_dir_list,mask_dir_list,transforms=None): #\n",
    "        super().__init__()\n",
    "\n",
    "    def __len__(self):\n",
    "        pass\n",
    "    \n",
    "    def __getitem__(self,index):        \n",
    "        pass"
   ]
  }
 ],
 "metadata": {
  "kernelspec": {
   "display_name": "Python 3",
   "language": "python",
   "name": "python3"
  },
  "language_info": {
   "codemirror_mode": {
    "name": "ipython",
    "version": 3
   },
   "file_extension": ".py",
   "mimetype": "text/x-python",
   "name": "python",
   "nbconvert_exporter": "python",
   "pygments_lexer": "ipython3",
   "version": "3.9.7"
  },
  "orig_nbformat": 4,
  "vscode": {
   "interpreter": {
    "hash": "aee8b7b246df8f9039afb4144a1f6fd8d2ca17a180786b69acc140d282b71a49"
   }
  }
 },
 "nbformat": 4,
 "nbformat_minor": 2
}
