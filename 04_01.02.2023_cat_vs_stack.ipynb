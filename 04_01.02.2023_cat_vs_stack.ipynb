{
 "cells": [
  {
   "cell_type": "code",
   "execution_count": null,
   "metadata": {},
   "outputs": [],
   "source": [
    "import torch\n",
    "import numpy as np\n",
    "import matplotlib.pyplot as plt\n",
    "import torchvision\n",
    "from torchvision.datasets import MNIST\n",
    "import torchvision.transforms as transforms\n",
    "import torch.nn.functional as F\n",
    "import torch.nn as nn "
   ]
  },
  {
   "cell_type": "code",
   "execution_count": null,
   "metadata": {},
   "outputs": [],
   "source": [
    "import torch\n",
    "\n",
    "# create tensors\n",
    "T1 = torch.Tensor([[1,2],[3,4]])\n",
    "T2 = torch.Tensor([[0,3],[4,1]])\n",
    "T3 = torch.Tensor([[4,3],[2,5]])\n",
    "\n",
    "print(\"\\njoin(concatenate) tensors in the 0 dimension\")\n",
    "T = torch.cat((T1,T2,T3), 0)   # OUTPUT : 6x2\n",
    "print(T)\n",
    "print(T.shape) \n",
    "\n",
    "print(\"\\n join(concatenate) tensors in the -1 dimension\")\n",
    "T = torch.cat((T1,T2,T3), -1)  # OUTPUT : 2x6\n",
    "print(T)\n",
    "print(T.shape)\n",
    "\n",
    "print(\"\\nJoin (stack)tensors in the 0 dimension\")\n",
    "T = torch.stack((T1,T2,T3), 0)  # OUTPUT : 3x2x2\n",
    "print(T)\n",
    "print(T.shape)\n",
    "\n",
    "print(\"\\nJoin(stack) tensors in the -1 dimension\")\n",
    "T = torch.stack((T1,T2,T3), -1)  # OUTPUT : 2x2x3\n",
    "print(T)\n",
    "print(T.shape)"
   ]
  }
 ],
 "metadata": {
  "kernelspec": {
   "display_name": "Python 3",
   "language": "python",
   "name": "python3"
  },
  "language_info": {
   "name": "python",
   "version": "3.9.7 (v3.9.7:1016ef3790, Aug 30 2021, 16:39:15) \n[Clang 6.0 (clang-600.0.57)]"
  },
  "orig_nbformat": 4,
  "vscode": {
   "interpreter": {
    "hash": "aee8b7b246df8f9039afb4144a1f6fd8d2ca17a180786b69acc140d282b71a49"
   }
  }
 },
 "nbformat": 4,
 "nbformat_minor": 2
}
