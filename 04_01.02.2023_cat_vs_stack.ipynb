{
 "cells": [
  {
   "cell_type": "code",
   "execution_count": 2,
   "metadata": {},
   "outputs": [],
   "source": [
    "import torch\n",
    "import numpy as np\n",
    "import matplotlib.pyplot as plt\n",
    "import torchvision\n",
    "from torchvision.datasets import MNIST\n",
    "import torchvision.transforms as transforms\n",
    "import torch.nn.functional as F\n",
    "import torch.nn as nn "
   ]
  },
  {
   "cell_type": "code",
   "execution_count": null,
   "metadata": {},
   "outputs": [],
   "source": [
    "import torch\n",
    "\n",
    "# create tensors\n",
    "T1 = torch.Tensor([ [1,2],\n",
    "                    [3,4]])\n",
    "\n",
    "T2 = torch.Tensor([ [0,3],\n",
    "                    [4,1]])\n",
    "                    \n",
    "T3 = torch.Tensor([ [4,3],\n",
    "                    [2,5]])\n",
    "print(T1.shape) \n",
    "\n",
    "print(\"\\njoin(concatenate) tensors in the 0 dimension\")\n",
    "T = torch.cat((T1,T2,T3), 0)   # OUTPUT : 6x2\n",
    "print(T)\n",
    "print(T.shape) \n",
    "\n",
    "print(\"\\n join(concatenate) tensors in the -1 dimension\")\n",
    "T = torch.cat((T1,T2,T3), -1)  # OUTPUT : 2x6\n",
    "print(T)\n",
    "print(T.shape)\n",
    "\n",
    "print(\"\\nJoin (stack)tensors in the 0 dimension\")\n",
    "T = torch.stack((T1,T2,T3), 0)  # OUTPUT : 3x2x2\n",
    "print(T)\n",
    "print(T.shape)\n",
    "\n",
    "print(\"\\nJoin(stack) tensors in the -1 dimension\")\n",
    "T = torch.stack((T1,T2,T3), -1)  # OUTPUT : 2x2x3\n",
    "print(T)\n",
    "print(T.shape)"
   ]
  },
  {
   "cell_type": "code",
   "execution_count": null,
   "metadata": {},
   "outputs": [],
   "source": [
    "x=torch.rand((4,3,5))\n",
    "print(x)\n",
    "print(x[:,0])\n",
    "print(x[:,0,:])"
   ]
  },
  {
   "cell_type": "code",
   "execution_count": 2,
   "metadata": {},
   "outputs": [
    {
     "data": {
      "text/plain": [
       "tensor([[[0.3079, 0.6698],\n",
       "         [0.0646, 0.7439]],\n",
       "\n",
       "        [[0.6471, 0.0527],\n",
       "         [0.1142, 0.6082]]])"
      ]
     },
     "execution_count": 2,
     "metadata": {},
     "output_type": "execute_result"
    }
   ],
   "source": [
    "import torch\n",
    "torch.rand(2,2,2)"
   ]
  },
  {
   "cell_type": "code",
   "execution_count": 8,
   "metadata": {},
   "outputs": [
    {
     "name": "stdout",
     "output_type": "stream",
     "text": [
      "torch.Size([4, 1])\n"
     ]
    },
    {
     "data": {
      "text/plain": [
       "tensor([[5, 5, 5, 5, 5],\n",
       "        [6, 6, 6, 6, 6],\n",
       "        [7, 7, 7, 7, 7],\n",
       "        [4, 4, 4, 4, 4]])"
      ]
     },
     "execution_count": 8,
     "metadata": {},
     "output_type": "execute_result"
    }
   ],
   "source": [
    "x = torch.tensor([[5], \n",
    "                  [6],\n",
    "                  [7],\n",
    "                  [4]])\n",
    "print(x.size())\n",
    "\n",
    "x.expand(4, 5)\n",
    "\n",
    "x.expand(-1, 5)   # -1 means not changing the size of that dimension\n"
   ]
  }
 ],
 "metadata": {
  "kernelspec": {
   "display_name": "Python 3",
   "language": "python",
   "name": "python3"
  },
  "language_info": {
   "codemirror_mode": {
    "name": "ipython",
    "version": 3
   },
   "file_extension": ".py",
   "mimetype": "text/x-python",
   "name": "python",
   "nbconvert_exporter": "python",
   "pygments_lexer": "ipython3",
   "version": "3.9.7 (v3.9.7:1016ef3790, Aug 30 2021, 16:39:15) \n[Clang 6.0 (clang-600.0.57)]"
  },
  "orig_nbformat": 4,
  "vscode": {
   "interpreter": {
    "hash": "aee8b7b246df8f9039afb4144a1f6fd8d2ca17a180786b69acc140d282b71a49"
   }
  }
 },
 "nbformat": 4,
 "nbformat_minor": 2
}
