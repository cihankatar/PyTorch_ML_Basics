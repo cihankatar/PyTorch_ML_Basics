{
 "cells": [
  {
   "cell_type": "code",
   "execution_count": 15,
   "metadata": {},
   "outputs": [],
   "source": [
    "import torch\n",
    "import numpy as np\n",
    "import matplotlib.pyplot as plt\n",
    "import torchvision\n",
    "from torchvision.datasets import MNIST\n",
    "import torchvision.transforms as transforms\n",
    "import torch.nn.functional as F\n",
    "import torch.nn as nn "
   ]
  },
  {
   "attachments": {},
   "cell_type": "markdown",
   "metadata": {},
   "source": [
    "**Train_Loder and iterating images into it**"
   ]
  },
  {
   "cell_type": "code",
   "execution_count": null,
   "metadata": {},
   "outputs": [],
   "source": [
    "# Loading data\n",
    "transform = ToTensor()\n",
    "\n",
    "train_set = MNIST(root='./../datasets', train=True, download=True, transform=transform)\n",
    "test_set = MNIST(root='./../datasets', train=False, download=True, transform=transform)\n",
    "\n",
    "train_loader = DataLoader(train_set, shuffle=True, batch_size=128)"
   ]
  },
  {
   "cell_type": "code",
   "execution_count": 17,
   "metadata": {},
   "outputs": [],
   "source": [
    "for image_and_target in train_loader: \n",
    "    image_and_target.append(image)\n",
    "\n",
    "print(image_and_target[0].shape)  #shows one batch in the list which consist of image and target"
   ]
  },
  {
   "cell_type": "code",
   "execution_count": null,
   "metadata": {},
   "outputs": [],
   "source": [
    "for batch in train_loader:\n",
    "    images, targets = batch \n",
    "\n",
    "plt.imshow(images[0].squeeze())      #1x28x28--> 28x28"
   ]
  },
  {
   "cell_type": "code",
   "execution_count": null,
   "metadata": {},
   "outputs": [],
   "source": [
    "from matplotlib import pyplot as plt\n",
    "images, labels = next(iter(train_loader))   #taking one by one batches  \n",
    "print(images.shape)\n",
    "plt.imshow(images[0].squeeze())             #1x28x28--> 28x28"
   ]
  },
  {
   "attachments": {},
   "cell_type": "markdown",
   "metadata": {
    "tags": []
   },
   "source": [
    "**How to use dim in softmax**"
   ]
  },
  {
   "cell_type": "code",
   "execution_count": null,
   "metadata": {},
   "outputs": [],
   "source": [
    "import torch\n",
    "import torch.nn.functional as F\n",
    "\n",
    "x = torch.tensor([[1,2],[3,4]],dtype=torch.float)\n",
    "F.softmax(x,dim=0)\n",
    "#x=tensor([[0.1192, 0.1192],\n",
    "  #        [0.8808, 0.8808]])\n",
    "F.softmax(x,dim=1)  # or F.softmax(x,dim=-1)\n",
    "#tensor([[0.2689, 0.7311],\n",
    "  #      [0.2689, 0.7311]])"
   ]
  },
  {
   "cell_type": "code",
   "execution_count": 8,
   "metadata": {},
   "outputs": [
    {
     "name": "stdout",
     "output_type": "stream",
     "text": [
      "\n",
      "join(concatenate) tensors in the 0 dimension\n",
      "tensor([[1., 2.],\n",
      "        [3., 4.],\n",
      "        [0., 3.],\n",
      "        [4., 1.],\n",
      "        [4., 3.],\n",
      "        [2., 5.]])\n",
      "torch.Size([6, 2])\n",
      "\n",
      " join(concatenate) tensors in the -1 dimension\n",
      "tensor([[1., 2., 0., 3., 4., 3.],\n",
      "        [3., 4., 4., 1., 2., 5.]])\n",
      "torch.Size([2, 6])\n",
      "\n",
      "Join (stack)tensors in the 0 dimension\n",
      "tensor([[[1., 2.],\n",
      "         [3., 4.]],\n",
      "\n",
      "        [[0., 3.],\n",
      "         [4., 1.]],\n",
      "\n",
      "        [[4., 3.],\n",
      "         [2., 5.]]])\n",
      "torch.Size([3, 2, 2])\n",
      "\n",
      "Join(stack) tensors in the -1 dimension\n",
      "tensor([[[1., 0., 4.],\n",
      "         [2., 3., 3.]],\n",
      "\n",
      "        [[3., 4., 2.],\n",
      "         [4., 1., 5.]]])\n",
      "torch.Size([2, 2, 3])\n"
     ]
    }
   ],
   "source": []
  },
  {
   "cell_type": "code",
   "execution_count": null,
   "metadata": {},
   "outputs": [],
   "source": []
  }
 ],
 "metadata": {
  "kernelspec": {
   "display_name": "Python 3",
   "language": "python",
   "name": "python3"
  },
  "language_info": {
   "codemirror_mode": {
    "name": "ipython",
    "version": 3
   },
   "file_extension": ".py",
   "mimetype": "text/x-python",
   "name": "python",
   "nbconvert_exporter": "python",
   "pygments_lexer": "ipython3",
   "version": "3.9.7"
  },
  "orig_nbformat": 4,
  "vscode": {
   "interpreter": {
    "hash": "aee8b7b246df8f9039afb4144a1f6fd8d2ca17a180786b69acc140d282b71a49"
   }
  }
 },
 "nbformat": 4,
 "nbformat_minor": 2
}
